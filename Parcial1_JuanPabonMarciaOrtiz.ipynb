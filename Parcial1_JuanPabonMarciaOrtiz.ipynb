{
  "nbformat": 4,
  "nbformat_minor": 0,
  "metadata": {
    "colab": {
      "provenance": []
    },
    "kernelspec": {
      "name": "python3",
      "display_name": "Python 3"
    },
    "language_info": {
      "name": "python"
    }
  },
  "cells": [
    {
      "cell_type": "code",
      "source": [
        "import numpy as np\n",
        "import matplotlib.pyplot as plt\n",
        "import sympy as sym\n",
        "import pandas as pd \n",
        "from re import X\n",
        "from mpl_toolkits.mplot3d import axes3d"
      ],
      "metadata": {
        "id": "KZn6NVo65hua"
      },
      "execution_count": 1,
      "outputs": []
    },
    {
      "cell_type": "code",
      "execution_count": 12,
      "metadata": {
        "colab": {
          "base_uri": "https://localhost:8080/"
        },
        "id": "emAa4Qpt5d_i",
        "outputId": "e89a84cc-51e5-478d-a31d-51039e4654bf"
      },
      "outputs": [
        {
          "output_type": "stream",
          "name": "stdout",
          "text": [
            "[1/(12*h), -2/(3*h), 0, 2/(3*h), -1/(12*h)]\n"
          ]
        }
      ],
      "source": [
        "#Ejercicio de Derivación\n",
        "\n",
        "#A)\n",
        "x= sym.Symbol('x',real = True)\n",
        "h= sym.Symbol('h',real = True)\n",
        "\n",
        "X= [-2*h,-1*h,0*h,1*h,2*h]\n",
        "\n",
        "def Lagrange(x,xi,j):\n",
        "    prod = 1\n",
        "    n = len(xi)\n",
        "    for i in range(n):\n",
        "        if i != j:\n",
        "            prod *= (x - xi[i])/(xi[j]-xi[i])      \n",
        "    return prod\n",
        "\n",
        "base= []\n",
        "for i in range(len(X)): \n",
        "  base_1 = Lagrange(x,X,i)\n",
        "  base.append(base_1)\n",
        "\n",
        "def GetCoefficients(x,p,X):\n",
        "  Coefficients = []\n",
        "  for i in range(len(X)):\n",
        "    Li= Lagrange(x,X,i)\n",
        "    dLi = sym.diff(Li,x,1)\n",
        "    C= dLi.subs(x,X[p])\n",
        "    Coefficients.append(C)\n",
        "    d = len(x)-1\n",
        "    \n",
        "  return Coefficients\n",
        "\n",
        "Coeficientes = GetCoefficients(x,2,X)\n",
        "print(Coeficientes)\n",
        "\n",
        " "
      ]
    },
    {
      "cell_type": "markdown",
      "source": [
        "Cuál es el orden de aproximaci´on $O(h^k)$?\n",
        "Al tener 5 puntos nuestro polinomio interpolador con Lagrange es de grado n-1, en este caso sería grado 4; y en base a la expresión para el error de interpolación de lagrange decimos que el grado del error va a estar dado por el grado de la derivada del polinomio, aumentado en un grado por lo que en este caso el grado de aproximación es de $O(h^4)$."
      ],
      "metadata": {
        "id": "l1JzUQVjEqg4"
      }
    }
  ]
}