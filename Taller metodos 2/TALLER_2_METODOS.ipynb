{
  "nbformat": 4,
  "nbformat_minor": 0,
  "metadata": {
    "colab": {
      "provenance": []
    },
    "kernelspec": {
      "name": "python3",
      "display_name": "Python 3"
    },
    "language_info": {
      "name": "python"
    }
  },
  "cells": [
    {
      "cell_type": "code",
      "source": [
        "import numpy as np\n",
        "import matplotlib.pyplot as plt\n",
        "import sympy as sym \n",
        "from sympy import integrate"
      ],
      "metadata": {
        "id": "bsm-B477cKK-"
      },
      "execution_count": null,
      "outputs": []
    },
    {
      "cell_type": "markdown",
      "source": [
        "DEMOSTRACION INTEGRALES 1\n",
        " → $$\\frac{f(a)}{(a-b)} \\frac{x^2}{2}-bx + \\frac{f(b)}{(b-a)}(\\frac{x^2}{2}-ax)$$\n",
        " reemplazamos los límites\n",
        " $$\\frac{f(a)}{(a-b)}[ \\frac{-b^2-a^2+2ab}{2}] + \\frac{f(b)}{(b-a)}(\\frac{b^2-2ab+a^2}{2})$$\n",
        "\n",
        "factorizamos numerador:\n",
        "$$-\\frac{f(a)}{(a-b)}[\\frac{(a-b)^2}{2}] + \\frac{f(b)}{(b-a)}(\\frac{(b-a)^2}{2})$$\n",
        "\n",
        "reducimos terminos\n",
        "$$f(a)[\\frac{(b-a)}{2}] + f(b)(\\frac{(b-a)}{2})$$\n",
        "\n",
        "factorizamos\n",
        "$$\\frac{f(a)+f(b)}{2} (b-a)$$\n",
        "\n"
      ],
      "metadata": {
        "id": "bDrsN0iTrEtt"
      }
    },
    {
      "cell_type": "markdown",
      "source": [
        "DEMOSTRACION MÉTODO TRAPECIO SIMPLE\n",
        "$∫\\frac{(x-b)(x-(a+b)/2)}{(a-b)(a-(a+b)/2)}f(a)$+ $∫\\frac{(x-a)(x-b)}{((a+b)/2-a)((a+b)/2 -b)}f((a+b)/2)$+$∫\\frac{(x-a)(x-(a+b)/2)}{((b-a)((b-(a+b)/2)}f(b)$\n",
        "al integrar y evaluar quedan los terminos\n",
        "$$\\frac{b^3a^3+3ba^2}{12} \\frac{f(a)}{(a-b)^2}$$\n"
      ],
      "metadata": {
        "id": "sD0-C0yw8VIx"
      }
    },
    {
      "cell_type": "markdown",
      "source": [
        "EXISTENCIA UNICIDAD DEL POLINOMIO INTERPOLADOR\n",
        "\n",
        "Tenemos 3 puntos $$x0,x1,x2$$ que serán interpolados por dos polinomios $$Q(x), P(x) →  ax^2+bx+c $$.\n",
        "\n",
        " Entonces, existe polinomio $R(x)= Q(x)- P(x)$ donde al evaluar la resta de la función en cada punto que intersectan ambos polinomios obtenemos:\n",
        "$$R(x)= Q(x0)- P(x0) = 0$$ $$R(x)= Q(x1)- P(x1)=0$$ $$R(x)= Q(x2)- P(x2)=0$$\n",
        "\n",
        "debido a que las restas nos dan cero, obtemos entonces que $x0,x1,x2$ son raíces de $R(x)$, sin embargo, $R(x)$ es polinomio de la forma $ ax^2+bx+c$ por lo que la única forma de que dicho polinomio tenga dos raíces es que: $$R(x)=0$$\n",
        "Si lo anterior pasa entonces tenemos:\n",
        "$$  Q(x)- P(x)=0$$ $$  Q(x)=  P(x)$$\n",
        "\n",
        "Se demuestra que los polinomios interpoladores son únicos.\n"
      ],
      "metadata": {
        "id": "qBa3S6t_JjOH"
      }
    },
    {
      "cell_type": "code",
      "execution_count": null,
      "metadata": {
        "colab": {
          "base_uri": "https://localhost:8080/",
          "height": 339
        },
        "id": "xe_BUfbl3R0l",
        "outputId": "86e049bc-b3f5-4a70-ddca-9a2ad19a03d6"
      },
      "outputs": [
        {
          "output_type": "stream",
          "name": "stdout",
          "text": [
            "[1.5910402  1.12909058 0.96156358 0.89229605 0.87802547 0.90723173\n",
            " 0.98196708 1.11611401 1.34209467 1.73278338]\n",
            "[1.59639318 1.13000098 0.96192003 0.89250713 0.87819711 0.907414\n",
            " 0.98220604 1.11648271 1.34275077 1.73414918]\n"
          ]
        },
        {
          "output_type": "display_data",
          "data": {
            "text/plain": [
              "<Figure size 432x288 with 1 Axes>"
            ],
            "image/png": "[encoded data removed]"
          },
          "metadata": {
            "needs_background": "light"
          }
        }
      ],
      "source": [
        "\n",
        "#PRONLEMA 8 DERIVADAS(lograr una derirvada progresiva de orden h**2) \n",
        "\n",
        "#a) Calcular analıticamente el polinomio que interpola el conjunto soporte.\n",
        "c=1\n",
        "Poly = lambda x : x**2+x+c\n",
        "#b) Derivar el polinomio interpolador para encontrar la derivada en el punto x\n",
        "\n",
        "intervalo= np.linspace(0.1,1.1,10)\n",
        "tan = np.tan(intervalo)\n",
        "\n",
        "def df_progresiva(f,x,h):\n",
        "  df=np.zeros_like(intervalo)\n",
        "  for i in range(len(x)):\n",
        "    df_1= 1/(2*h)*(-3*f(x[i])+4*f(x[i]+h)-f(x[i]+(2*h)))\n",
        "    df[i]=df_1\n",
        "  return df\n",
        "\n",
        "def df_central (f,x,h):\n",
        "  df_central = np.zeros_like(intervalo)\n",
        "  if h!=0:\n",
        "     return (f(x+h)-f(x-h))/(h*2)\n",
        "\n",
        "def df_analitica(x):\n",
        "  return (1/(np.cos(x))**2)/(2*((np.tan(x))**0.5))\n",
        "\n",
        "tan = lambda x: np.sqrt(np.tan(x))\n",
        "y_progresiva= df_progresiva(tan,intervalo,1e-2)\n",
        "y_central= df_central (tan,intervalo,1e-2)\n",
        "\n",
        "y_analitica= df_analitica(intervalo)\n",
        "\n",
        "plt.plot(intervalo,y_progresiva, \"r\")\n",
        "plt.plot (intervalo, y_central,\"b\")\n",
        "plt.plot(intervalo, y_analitica, \"k\")\n",
        "\n",
        "print(y_progresiva)\n",
        "print(y_central)\n",
        "\n",
        "\n",
        "\n",
        "\n"
      ]
    },
    {
      "cell_type": "code",
      "source": [
        "\n",
        "#raices de polinomios\n",
        "#5. (SymPy) Calcular todas las ra´ıces reales de los primeros 20 polinomios de Laguerre. La\n",
        "#formula de rodrigues es:\n",
        "n= 20\n",
        "x= sym.Symbol('x')\n",
        "\n",
        "\n",
        "def GetPolys (n):\n",
        "  polys=[]\n",
        "  for i in range(n): \n",
        "    factorial = np.math.factorial(i)\n",
        "    y= sym.exp(-x)*(x**i)\n",
        "    dy= y.diff(x,i)\n",
        "    Poly= (sym.exp(x)/factorial)*dy\n",
        "    Poly= sym.simplify(Poly)\n",
        "    polys.append(Poly)\n",
        "  return polys\n",
        "\n",
        "polinomios_laguere = GetPolys(n)\n",
        "d_poly=[]\n",
        "\n",
        "for i in range(len(polinomios_laguere)):\n",
        "  diff= polinomios_laguere[i].diff(x)\n",
        "  d_poly.append(diff)\n",
        "\n",
        "\n",
        "def MedNewtonRaphson (f,df,x0,Toleracia=1e-5,itmax=100): \n",
        "   error= 1\n",
        "   it=0\n",
        "   while error > Toleracia and it<=itmax:\n",
        "     x = x0-f(x0)/df(x0)\n",
        "     error = np.abs(f(x0)/df(x0))\n",
        "     x0=x\n",
        "     it+=1\n",
        "    \n",
        "   if it==itmax:\n",
        "     False\n",
        "   else:\n",
        "     return x\n",
        "\n",
        "def Conjunto_raices(f,df,x,precision=4):\n",
        "   raices= []\n",
        "   dan= np.array([])\n",
        "   conjunto= []\n",
        "\n",
        "   for i in x:\n",
        "     raiz = MedNewtonRaphson(f,df,i)\n",
        "     \n",
        "     if raiz != False:\n",
        "       n_raiz= np.round(raiz, precision)\n",
        "       conjunto.append(n_raiz)\n",
        "\n",
        "       if n_raiz not in raices:\n",
        "         raices = np.append(raices,n_raiz)\n",
        "\n",
        "   raices.sort()\n",
        "   return raices\n",
        "\n",
        "xn=np.linspace(0,100,100)\n",
        "raices= []\n",
        "\n",
        "for i in range(1,len(polinomios_laguere)):\n",
        "  poly = sym.lambdify([x],polinomios_laguere[i],'numpy')\n",
        "  dif= sym.lambdify([x],d_poly[i],'numpy')\n",
        "  raiz= Conjunto_raices(poly,dif,xn)\n",
        "  raices.append(raiz)\n",
        "\n",
        "print(raices)"
      ],
      "metadata": {
        "id": "twaTNchyXTom",
        "colab": {
          "base_uri": "https://localhost:8080/"
        },
        "outputId": "03d84003-17c6-4127-a650-d3373b01f21e"
      },
      "execution_count": null,
      "outputs": [
        {
          "output_type": "stream",
          "name": "stdout",
          "text": [
            "[array([1.]), array([0.5858, 3.4142]), array([0.4158, 2.2943, 6.2899]), array([0.3225, 1.7458, 4.5366, 9.3951]), array([ 0.2636,  1.4134,  3.5964,  7.0858, 12.6408]), array([ 0.2228,  1.1889,  2.9927,  5.7751,  9.8375, 15.9829]), array([ 0.193 ,  1.0267,  2.5679,  4.9004,  8.1822, 12.7342, 19.3957]), array([ 0.1703,  0.9037,  2.2511,  4.2667,  7.0459, 10.7585, 15.7407,\n",
            "       22.8631]), array([ 0.1523,  0.8072,  2.0051,  3.7835,  6.205 ,  9.373 , 13.4662,\n",
            "       18.8336, 26.3741]), array([ 0.1378,  0.7295,  1.8083,  3.4014,  5.5525,  8.3302, 11.8438,\n",
            "       16.2793, 21.9966, 29.9207]), array([ 0.1258,  1.6472,  3.0911,  5.0293,  7.5099, 10.606 , 14.4316,\n",
            "       19.1789, 25.2177, 33.4972]), array([ 0.1157,  2.8338,  4.5992,  6.8445,  9.6213, 13.0061, 17.1169,\n",
            "       22.1511, 28.488 , 37.0991]), array([ 0.1071,  2.6166,  4.2388,  6.2923,  8.815 , 11.8614, 15.5108,\n",
            "       19.8846, 25.1853, 31.8004, 40.723 ]), array([ 0.0997,  1.3006,  2.4308,  3.9321,  5.8255,  8.1402, 10.9165,\n",
            "       14.2108, 18.1049, 22.7234, 28.273 , 35.1494, 44.3661]), array([ 0.0933,  1.2156,  2.2699,  3.6676,  5.4253,  7.5659, 10.1202,\n",
            "       13.1303, 16.6544, 20.7765, 25.6239, 31.4075, 38.5307, 48.0261]), array([ 0.0876,  1.1411,  2.1293,  3.4371,  5.078 ,  7.0703,  9.4383,\n",
            "       12.2142, 15.4415, 19.1802, 23.5159, 28.5787, 34.5834, 41.9405,\n",
            "       51.7012]), array([ 0.0826,  1.0752,  2.0052,  3.2343,  4.7735,  6.6378,  8.8467,\n",
            "       11.4255, 14.4078, 17.8383, 21.7783, 26.3153, 31.5818, 37.7961,\n",
            "       45.3757, 55.3898]), array([ 0.0782,  1.0165,  1.8949,  3.0544,  4.5042,  6.2567,  8.3278,\n",
            "       10.738 , 13.5137, 16.6893, 20.3108, 24.4407, 29.1682, 34.6279,\n",
            "       41.0418, 48.8339, 59.0905]), array([ 0.0742,  0.964 ,  1.7962,  2.8937,  4.2642,  5.9181,  7.8686,\n",
            "       10.1324, 12.7309, 15.6913, 19.049 , 22.8508, 27.1607, 32.0691,\n",
            "       37.7129, 44.3174, 52.3129, 62.8024])]\n"
          ]
        }
      ]
    },
    {
      "cell_type": "markdown",
      "source": [
        "Interpolación de Lagrange:\n",
        "\n",
        "Problemas: 1,"
      ],
      "metadata": {
        "id": "sItCaqVEtHrV"
      }
    },
    {
      "cell_type": "markdown",
      "source": [
        "1 Demuestre que el polinomio interpolador es único:"
      ],
      "metadata": {
        "id": "hR08j5QetQdt"
      }
    },
    {
      "cell_type": "code",
      "source": [
        "#4\n",
        "x=sym.Symbol(\"x\")\n",
        "\n",
        "def Lagrange(xi,fi):\n",
        "  polinomio=0\n",
        "  for i in range(len(xi)):\n",
        "    numerador=1\n",
        "    denominador=1\n",
        "    for j in range(len(xi)):\n",
        "      if j!=i:\n",
        "        numerador*= x-xi[j]\n",
        "        denominador *= xi[i]-xi[j]\n",
        "\n",
        "    termino=numerador/denominador\n",
        "    polinomio+= termino*fi[i]\n",
        "\n",
        "  return polinomio\n",
        "\n",
        "def valores(xi,fi):\n",
        "  polinomio= Lagrange(xi,fi)\n",
        "  simplicacion = polinomio.expand()\n",
        "  px=sym.lambdify(x,simplicacion)\n",
        "  muestra = 100\n",
        "  a,b = min(xi),max(xi)\n",
        "  pxi= np.linspace(a,b,muestra)\n",
        "  pfi= px(pxi)\n",
        "  return pxi,pfi,polinomio,simplicacion\n",
        "\n",
        "def graficar(xi,fi,pxi,pfi):\n",
        "  plt.subplots(figsize=(15,8))\n",
        "  plt.plot(xi,fi,\"o\",label=\"Puntos\")\n",
        "  plt.plot(pxi,pfi,label=\"Polinomio\")\n",
        "  plt.legend()\n",
        "\n",
        "xi=np.array([1.4,3.5,5.6])\n",
        "yi=np.array([0.4007954931819738,0.594128102489774,0.29802795523938164])\n",
        "\n",
        "pxi,pfi,polinomio,simplicacion= valores(xi,yi)\n",
        "print(simplicacion)\n",
        "grafica = graficar (xi,yi,pxi,pfi)"
      ],
      "metadata": {
        "colab": {
          "base_uri": "https://localhost:8080/",
          "height": 500
        },
        "id": "1MUvh80ETEoj",
        "outputId": "3e51bef6-c696-4975-91bb-0c37e9cdcbfa"
      },
      "execution_count": null,
      "outputs": [
        {
          "output_type": "stream",
          "name": "stdout",
          "text": [
            "-0.0554912422401579*x**2 + 0.363970234266202*x + 2.22044604925031e-16\n"
          ]
        },
        {
          "output_type": "display_data",
          "data": {
            "text/plain": [
              "<Figure size 1080x576 with 1 Axes>"
            ],
            "image/png": "[encoded data removed]"
          },
          "metadata": {
            "needs_background": "light"
          }
        }
      ]
    },
    {
      "cell_type": "code",
      "source": [
        "#SUPERCONDUCTIVIDAD\n",
        "def funcion (x, T, dT=0):\n",
        "  return (np.tanh(np.sqrt(x**2+dT**2))*(300/2*T))/np.sqrt(x**2+dT**2)\n",
        "\n",
        "Raices, Pesos = np.polynomial.legendre.leggauss(20)\n",
        "\n",
        "temps= [1,2,3,4,5,6,7,8,9,10,11,12,13,14,15,16,17,18,19,20]\n",
        "Tc=0\n",
        "tempetature=[]\n",
        "for j in temps:\n",
        "  suma=0\n",
        "  for i in range(20):\n",
        "    valor = Pesos[i]*funcion(Raices[i],j)\n",
        "    suma+=valor\n",
        "    if i == 19:\n",
        "      tempetature.append(suma)\n",
        "\n",
        "tempetature"
      ],
      "metadata": {
        "colab": {
          "base_uri": "https://localhost:8080/"
        },
        "id": "JKG7NmPLk1Sm",
        "outputId": "bb5faa16-992e-4fe0-fee7-90aaa86ac85a"
      },
      "execution_count": null,
      "outputs": [
        {
          "output_type": "execute_result",
          "data": {
            "text/plain": [
              "[272.9024260837037,\n",
              " 545.8048521674074,\n",
              " 818.7072782511109,\n",
              " 1091.6097043348148,\n",
              " 1364.512130418518,\n",
              " 1637.4145565022218,\n",
              " 1910.3169825859254,\n",
              " 2183.2194086696295,\n",
              " 2456.1218347533327,\n",
              " 2729.024260837036,\n",
              " 3001.9266869207404,\n",
              " 3274.8291130044436,\n",
              " 3547.7315390881467,\n",
              " 3820.633965171851,\n",
              " 4093.536391255554,\n",
              " 4366.438817339259,\n",
              " 4639.341243422963,\n",
              " 4912.243669506665,\n",
              " 5185.146095590369,\n",
              " 5458.048521674072]"
            ]
          },
          "metadata": {},
          "execution_count": 23
        }
      ]
    },
    {
      "cell_type": "markdown",
      "source": [
        "Relación trayectoria de lanzamiento parabólico"
      ],
      "metadata": {
        "id": "X6CHqL2KW486"
      }
    },
    {
      "cell_type": "markdown",
      "source": [
        "5_ interpolacion"
      ],
      "metadata": {
        "id": "73Cmrk5fAIdv"
      }
    },
    {
      "cell_type": "code",
      "source": [
        "from csv import reader\n",
        "import urllib.request\n",
        "import numpy as np\n",
        "import matplotlib.pyplot as plt\n",
        "\n",
        "\n",
        "url = 'https://raw.githubusercontent.com/asegura4488/Database/main/MetodosComputacionalesReforma/InterpolacionNewtonNoequi.csv'\n",
        "\n",
        "data=[[0,-18],\n",
        "[1.5,-13],\n",
        "[2,0],\n",
        "[3.8,5],\n",
        "[4.2,3],\n",
        "[5.9,10]]\n",
        "\n",
        "datos= np.array(data)\n",
        "xi=[]\n",
        "yi=[]\n",
        "for i in range(len(datos)):\n",
        "  xi.append(datos[i][0])\n",
        "  yi.append(datos[i][1])\n",
        "\n",
        "title= ['i','xi','fi']\n",
        "n=len(xi)\n",
        "ki=np.arange(0,n,1)\n",
        "matrix= np.concatenate(([ki],[xi],[yi]),axis=0)\n",
        "matrix= np.transpose(matrix)\n",
        "\n",
        "dfinita = np.zeros(shape=(n,n),dtype=float)\n",
        "matrix= np.concatenate((matrix,dfinita),axis=1)\n",
        "\n",
        "\n",
        "#Calcular la matrix\n",
        "[n,m]=np.shape(matrix)\n",
        "diagonal = n-1\n",
        "j=3\n",
        "while j < m: \n",
        "  title.append('F['+str(j-2)+']')\n",
        "  i=0\n",
        "  paso= j-2\n",
        "  while (i<diagonal):\n",
        "    denominador =(xi[i+paso]-xi[i])\n",
        "    numerador = matrix[i+1,j-1]-matrix[i,j-1]\n",
        "    matrix[i,j]= numerador/denominador\n",
        "    i+=1\n",
        "  diagonal -= 1\n",
        "  j+=1\n",
        "\n",
        "#Polinomio con diferencias divididas\n",
        "dDividida= matrix[0,3:]\n",
        "n=len(dfinita)\n",
        "\n",
        "x=sym.Symbol('x')\n",
        "polinomio=yi[0]\n",
        "for j in range(1,n,1):\n",
        "  factor=dDividida[j-1]\n",
        "  termino=1\n",
        "  for k in range(0,j,1):\n",
        "    termino = termino*(x-xi[k])\n",
        "  polinomio=polinomio+termino*factor\n",
        "\n",
        "simplificacion= polinomio.expand()\n",
        "px=sym.lambdify(x,simplificacion)\n",
        "print(simplificacion)\n",
        "muestra=101\n",
        "a=np.amin(xi)\n",
        "b=np.amax(xi)\n",
        "pxi=np.linspace(a,b,muestra)\n",
        "pfi=px(pxi)\n",
        "\n",
        "#Graficar\n",
        "plt.plot(xi,yi,'o',color='r',label='Datos')\n",
        "plt.plot(pxi,pfi,label='Polinomio Interpolador')\n",
        "plt.legend()\n",
        "plt.xlabel('xi')\n",
        "plt.ylabel('yi')\n",
        "plt.title('Interpolación Newton_Gregory')\n",
        "plt.show()\n"
      ],
      "metadata": {
        "colab": {
          "base_uri": "https://localhost:8080/",
          "height": 313
        },
        "id": "bLfBq1IwtHU9",
        "outputId": "c02265e6-d2c1-4176-8f9c-9757943a3a8e"
      },
      "execution_count": null,
      "outputs": [
        {
          "output_type": "stream",
          "name": "stdout",
          "text": [
            "-0.34145435774264*x**5 + 5.84804869821673*x**4 - 35.6998197753506*x**3 + 89.657566164176*x**2 - 68.8369730888011*x - 18.0\n"
          ]
        },
        {
          "output_type": "display_data",
          "data": {
            "text/plain": [
              "<Figure size 432x288 with 1 Axes>"
            ],
            "image/png": "[encoded data removed]"
          },
          "metadata": {
            "needs_background": "light"
          }
        }
      ]
    },
    {
      "cell_type": "markdown",
      "source": [
        "Integración:\n",
        "\n",
        "Problemas: 1,3,19"
      ],
      "metadata": {
        "id": "gtdMwQqSCrT1"
      }
    },
    {
      "cell_type": "code",
      "source": [
        "#14\n",
        "x = sym.Symbol('x',real=True)\n",
        "y = sym.Symbol('y',real=True)\n",
        "n=8\n",
        "\n",
        "def Poly_legen (n,x,y):\n",
        "  y= (x**2 - 1)**n\n",
        "  poly = sym.diff(y,x,n)/(2**n *np.math.factorial(n))\n",
        "  return poly\n",
        "\n",
        "poly1= 3+5*x+x**2\n",
        "\n",
        "coeficiente = np.zeros(5)\n",
        "\n",
        "for i in range(len(coeficiente)):\n",
        "  legendre= Poly_legen(i,x,y)\n",
        "  polinomio = poly1*legendre\n",
        "  polinomio = sym.simplify(polinomio)\n",
        "  integrar = (integrate(polinomio,(x,-1,1)))/2\n",
        "  coeficiente[i] = (2*i+1)*integrar\n",
        "\n",
        "print(coeficiente)\n",
        "Polinomios = []\n",
        "for i in range(len(coeficiente)):\n",
        "  if coeficiente[i] !=0.:\n",
        "    Polinomios.append(Poly_legen(i,x,y))\n",
        "print(Polinomios)\n",
        "    \n",
        "print(\"El polinomio es:\",coeficiente[0],\"*P0 +\",coeficiente[1],\"*P1 +\",coeficiente[2],\"*P2\")\n",
        "\n"
      ],
      "metadata": {
        "colab": {
          "base_uri": "https://localhost:8080/"
        },
        "id": "x2wjbRkLCvoU",
        "outputId": "6a6bec65-190c-4bb3-ad42-9a053c1ee224"
      },
      "execution_count": null,
      "outputs": [
        {
          "output_type": "stream",
          "name": "stdout",
          "text": [
            "[3.33333333 5.         0.66666667 0.         0.        ]\n",
            "[1, x, (3*x**2 - 1)/2]\n",
            "El polinomio es: 3.3333333333333335 *P0 + 5.0 *P1 + 0.6666666666666666 *P2\n"
          ]
        }
      ]
    },
    {
      "cell_type": "markdown",
      "source": [
        "17"
      ],
      "metadata": {
        "id": "1mj1a801rV_7"
      }
    },
    {
      "cell_type": "code",
      "source": [
        "from matplotlib.patches import StepPatch\n",
        "n=3\n",
        "a=0\n",
        "f= lambda x: x**3/(np.exp(x)-1)\n",
        "\n",
        "def cuadraturagauss(f,a,n):\n",
        "  Roots1, Weights1 = np.polynomial.laguerre.laggauss(n)\n",
        "  suma =0\n",
        "  for i in range(n):\n",
        "    valor = Weights1[i]*np.exp(Roots1[i])*f(Roots1[a+i])\n",
        "    suma+= valor\n",
        "  return suma\n",
        "\n",
        "integral = cuadraturagauss(f,a,n)\n",
        "print(integral)\n",
        "\n",
        "#B\n",
        "exacto = ((np.pi)**4)/15\n",
        "N=[2,3,4,5,6,7,8,9,10]\n",
        "puntos=[]\n",
        "for i in N:\n",
        "  aproximacion = cuadraturagauss(f,a,i)\n",
        "  error = aproximacion/exacto\n",
        "  puntos.append(error)\n",
        "\n",
        "plt.scatter(N,puntos,color='b',label='Exactitud de la Cuadratura de laguerre')\n",
        "plt.legend()\n",
        "plt.xlabel('N')\n",
        "plt.ylabel('Exactitud')\n"
      ],
      "metadata": {
        "id": "wXQ9hYaYrXPa",
        "colab": {
          "base_uri": "https://localhost:8080/",
          "height": 314
        },
        "outputId": "63338610-5009-41a9-877d-91eb43608a97"
      },
      "execution_count": null,
      "outputs": [
        {
          "output_type": "stream",
          "name": "stdout",
          "text": [
            "6.481130171540027\n"
          ]
        },
        {
          "output_type": "execute_result",
          "data": {
            "text/plain": [
              "Text(0, 0.5, 'Exactitud')"
            ]
          },
          "metadata": {},
          "execution_count": 27
        },
        {
          "output_type": "display_data",
          "data": {
            "text/plain": [
              "<Figure size 432x288 with 1 Axes>"
            ],
            "image/png": "[encoded data removed]"
          },
          "metadata": {
            "needs_background": "light"
          }
        }
      ]
    },
    {
      "cell_type": "markdown",
      "source": [
        "18 Integrales con hermite\n"
      ],
      "metadata": {
        "id": "zI4VJOLjKQP1"
      }
    },
    {
      "cell_type": "code",
      "source": [
        "def MedNewtonRaphson (f,df,x0,Toleracia=1e-5,itmax=100): \n",
        "   error= 1\n",
        "   it=0\n",
        "   while error > Toleracia and it<=itmax:\n",
        "     x = x0-f(x0)/df(x0)\n",
        "     error = np.abs(f(x0)/df(x0))\n",
        "     x0=x\n",
        "     it+=1\n",
        "    \n",
        "   if it==itmax:\n",
        "     False\n",
        "\n",
        "   else:\n",
        "     return x\n",
        "\n",
        "def Conjunto_raices(f,df,x,precision=4):\n",
        "   raices= []\n",
        "   dan= np.array([])\n",
        "   conjunto= []\n",
        "\n",
        "   for i in x:\n",
        "     raiz = MedNewtonRaphson(f,df,i)\n",
        "     \n",
        "     if raiz != False:\n",
        "       n_raiz= np.round(raiz, precision)\n",
        "       conjunto.append(n_raiz)\n",
        "\n",
        "       if n_raiz not in raices:\n",
        "         raices = np.append(raices,n_raiz)\n",
        "\n",
        "   raices.sort()\n",
        "   return raices\n"
      ],
      "metadata": {
        "id": "b7OOrtcNiWQe"
      },
      "execution_count": null,
      "outputs": []
    },
    {
      "cell_type": "code",
      "source": [
        "#Polinomio de hermite\n",
        "X= sym.Symbol('x',real=True)\n",
        "n=20\n",
        "\n",
        "def GetHermitepoly(x,n):\n",
        "  f= sym.exp(-x**2)\n",
        "  df= f.diff(x,n)\n",
        "  poly= ((-1)**n)*sym.exp(x**2)*df\n",
        "  return poly\n",
        "\n",
        "H=[]\n",
        "dH=[]\n",
        "for i in range(n+1):\n",
        "  Hermite= GetHermitepoly(X,i)\n",
        "  diff= Hermite.diff(X)\n",
        "  H.append(Hermite)\n",
        "  dH.append(diff)\n",
        "\n",
        "\n",
        "def All_roots (n,xn,Hermite,DHermite):\n",
        "    poly = sym.lambdify([X],Hermite[n],'numpy')\n",
        "    Dpoly = sym.lambdify([X],DHermite[n],'numpy')\n",
        "    raices = Conjunto_raices(poly,Dpoly,xn)\n",
        "    return raices\n",
        "\n",
        "xn= np.linspace(-10,10,100)\n",
        "raices = All_roots(n,xn,H,dH)\n",
        "\n",
        "def GetWeights (raices,Hermite):\n",
        "    poly_1= sym.lambdify([X],Hermite[n-1],'numpy')\n",
        "    pesos = []\n",
        "    for i in range(n):\n",
        "        Weights= ((2**(n-1))*(np.math.factorial(n))*(np.sqrt(np.pi)))/((n**2)*(poly_1((raices[i]))**2))\n",
        "        pesos.append(Weights)\n",
        "    return pesos"
      ],
      "metadata": {
        "id": "z0_IoaETeTru",
        "colab": {
          "base_uri": "https://localhost:8080/"
        },
        "outputId": "89bd3daa-7513-403c-83ea-d7aa85d9b93f"
      },
      "execution_count": null,
      "outputs": [
        {
          "output_type": "stream",
          "name": "stdout",
          "text": [
            "[1, 2*x, 4*x**2 - 2, -4*x*(3 - 2*x**2), 16*x**4 - 48*x**2 + 12, -8*x*(-4*x**4 + 20*x**2 - 15), 64*x**6 - 480*x**4 + 720*x**2 - 120, -16*x*(-8*x**6 + 84*x**4 - 210*x**2 + 105), 256*x**8 - 3584*x**6 + 13440*x**4 - 13440*x**2 + 1680, -32*x*(-16*x**8 + 288*x**6 - 1512*x**4 + 2520*x**2 - 945), 1024*x**10 - 23040*x**8 + 161280*x**6 - 403200*x**4 + 302400*x**2 - 30240, -64*x*(-32*x**10 + 880*x**8 - 7920*x**6 + 27720*x**4 - 34650*x**2 + 10395), 4096*x**12 - 135168*x**10 + 1520640*x**8 - 7096320*x**6 + 13305600*x**4 - 7983360*x**2 + 665280, -128*x*(-64*x**12 + 2496*x**10 - 34320*x**8 + 205920*x**6 - 540540*x**4 + 540540*x**2 - 135135), 16384*x**14 - 745472*x**12 + 12300288*x**10 - 92252160*x**8 + 322882560*x**6 - 484323840*x**4 + 242161920*x**2 - 17297280, -256*x*(-128*x**14 + 6720*x**12 - 131040*x**10 + 1201200*x**8 - 5405400*x**6 + 11351340*x**4 - 9459450*x**2 + 2027025), 65536*x**16 - 3932160*x**14 + 89456640*x**12 - 984023040*x**10 + 5535129600*x**8 - 15498362880*x**6 + 19372953600*x**4 - 8302694400*x**2 + 518918400, -512*x*(-256*x**16 + 17408*x**14 - 456960*x**12 + 5940480*x**10 - 40840800*x**8 + 147026880*x**6 - 257297040*x**4 + 183783600*x**2 - 34459425), 262144*x**18 - 20054016*x**16 + 601620480*x**14 - 9124577280*x**12 + 75277762560*x**10 - 338749931520*x**8 + 790416506880*x**6 - 846874828800*x**4 + 317578060800*x**2 - 17643225600, -1024*x*(-512*x**18 + 43776*x**16 - 1488384*x**14 + 26046720*x**12 - 253955520*x**10 + 1396755360*x**8 - 4190266080*x**6 + 6285399120*x**4 - 3928374450*x**2 + 654729075), 1048576*x**20 - 99614720*x**18 + 3810263040*x**16 - 76205260800*x**14 + 866834841600*x**12 - 5721109954560*x**10 + 21454162329600*x**8 - 42908324659200*x**6 + 40226554368000*x**4 - 13408851456000*x**2 + 670442572800]\n"
          ]
        }
      ]
    },
    {
      "cell_type": "code",
      "source": [
        "#Oscilador armonico en mecanica cuantica\n",
        "f= lambda x: (x**4)\n",
        "n=20\n",
        "xn= np.linspace(-10,10,100)\n",
        "Raices = All_roots(n,xn,H,dH)\n",
        "Pesos=GetWeights(raices,H)\n",
        "suma=0\n",
        "for i in range(n):\n",
        "    valor= Pesos[i]*f(Raices[i])\n",
        "    suma+=valor\n",
        "\n",
        "integral = 2*(1/np.pi)**(1/2)*suma\n",
        "print(integral)"
      ],
      "metadata": {
        "id": "qXX1T0h-qDpj",
        "colab": {
          "base_uri": "https://localhost:8080/"
        },
        "outputId": "04b85c10-b42d-43ce-a6a1-63b14a21779e"
      },
      "execution_count": null,
      "outputs": [
        {
          "output_type": "stream",
          "name": "stdout",
          "text": [
            "1.5000418239846258\n"
          ]
        }
      ]
    },
    {
      "cell_type": "code",
      "source": [
        "#7\n",
        "n = 200\n",
        "x = np.linspace(-1,1,n+1)\n",
        "y = np.linspace(-1,1,n+1)\n",
        "a = 0.\n",
        "b = x[-1]\n",
        "R = 1\n",
        "\n",
        "def f(x,y,R=1.): \n",
        "    z = R**2 - x**2 - y**2\n",
        "    if z <= 0.:\n",
        "        return 0.\n",
        "    else:\n",
        "        return np.sqrt(z)\n",
        "f = np.vectorize(f)\n",
        "X,Y = np.meshgrid(x,y)\n",
        "Z = f(X,Y)\n",
        "fig = plt.figure()\n",
        "ax = fig.add_subplot(111,projection='3d')\n",
        "ax.plot_surface(X,Y,Z,color=\"b\")\n",
        "\n",
        "area=(x[1]-x[0])*(y[1]-y[0])\n",
        "volumen=0\n",
        "\n",
        "for i in range(len(x)):\n",
        "    for j in range(len(y)):\n",
        "        p_1=f(x[i],y[j])\n",
        "        p_2=f(x[i-1],y[j])\n",
        "        p_3=f(x[i-1],y[j-1])\n",
        "        p_4=f(x[i],y[j-1])\n",
        "        \n",
        "        if p_1 in Z and p_2 in Z and p_3 in Z and p_4 in Z:\n",
        "            promedio=(p_1+p_2+p_3+p_4)/4\n",
        "            vol_i=promedio*area\n",
        "            volumen+=vol_i\n",
        "    \n",
        "print(volumen)"
      ],
      "metadata": {
        "id": "5ymspvdhH7yX",
        "colab": {
          "base_uri": "https://localhost:8080/",
          "height": 276
        },
        "outputId": "0d159db7-4e19-45d5-a6bc-07bf76107bd0"
      },
      "execution_count": null,
      "outputs": [
        {
          "output_type": "stream",
          "name": "stdout",
          "text": [
            "2.0943195841075304\n"
          ]
        },
        {
          "output_type": "display_data",
          "data": {
            "text/plain": [
              "<Figure size 432x288 with 1 Axes>"
            ],
            "image/png": "[encoded data removed]"
          },
          "metadata": {
            "needs_background": "light"
          }
        }
      ]
    }
  ]
}